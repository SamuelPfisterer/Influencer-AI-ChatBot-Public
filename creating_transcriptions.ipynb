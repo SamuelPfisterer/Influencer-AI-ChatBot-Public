{
 "cells": [
  {
   "cell_type": "code",
   "execution_count": 16,
   "id": "f543feca",
   "metadata": {},
   "outputs": [],
   "source": [
    "import os\n",
    "import pandas as pd\n",
    "import openai\n",
    "from openai import OpenAI\n"
   ]
  },
  {
   "cell_type": "code",
   "execution_count": 17,
   "id": "156897ab",
   "metadata": {},
   "outputs": [],
   "source": [
    "# Load your OpenAI API key from an environment variable or directly\n",
    "openai.api_key = 'not for you'\n",
    "client = OpenAI(api_key='not for you')"
   ]
  },
  {
   "cell_type": "code",
   "execution_count": 18,
   "id": "9f745fd4",
   "metadata": {},
   "outputs": [],
   "source": [
    "# Define the path to the CSV file and mp3 directory\n",
    "csv_file_path = os.path.join('..', 'csv_files','output_videos.csv')\n",
    "mp3_dir = os.path.join('..', 'mp3_files')"
   ]
  },
  {
   "cell_type": "code",
   "execution_count": 19,
   "id": "e96863bd",
   "metadata": {},
   "outputs": [],
   "source": [
    "# Read the CSV file into a DataFrame\n",
    "df = pd.read_csv(csv_file_path)"
   ]
  },
  {
   "cell_type": "code",
   "execution_count": 25,
   "id": "eb49be8c",
   "metadata": {},
   "outputs": [],
   "source": [
    "# Function to transcribe MP3 files using OpenAI Whisper API\n",
    "def transcribe_audio(file_path):\n",
    "    try:\n",
    "        # Open the audio file\n",
    "        with open(file_path, 'rb') as audio_file:\n",
    "            # Transcribe the audio file using Whisper API\n",
    "            response = client.audio.transcriptions.create(\n",
    "                model=\"whisper-1\",\n",
    "                file=audio_file\n",
    "            )\n",
    "            transcription = response.text\n",
    "            return transcription\n",
    "    except Exception as e:\n",
    "        print(f\"An error occurred while transcribing {file_path}: {e}\")\n",
    "        return None"
   ]
  },
  {
   "cell_type": "code",
   "execution_count": null,
   "id": "35b002c4",
   "metadata": {},
   "outputs": [],
   "source": []
  },
  {
   "cell_type": "code",
   "execution_count": 29,
   "id": "e23cb8b9",
   "metadata": {},
   "outputs": [],
   "source": [
    "# Iterate over each row in the DataFrame and add transcriptions\n",
    "transcriptions = []"
   ]
  },
  {
   "cell_type": "code",
   "execution_count": 30,
   "id": "d75fefa4",
   "metadata": {},
   "outputs": [],
   "source": [
    "for index, row in df.iterrows():\n",
    "    short_code = row['shortCode']\n",
    "    mp3_file_path = os.path.join(mp3_dir, f\"{short_code}.mp3\")\n",
    "    if os.path.exists(mp3_file_path):\n",
    "        transcription = transcribe_audio(mp3_file_path)\n",
    "        transcriptions.append(transcription)\n",
    "    else:\n",
    "        print(f\"MP3 file {mp3_file_path} not found\")\n",
    "        transcriptions.append(None)"
   ]
  },
  {
   "cell_type": "code",
   "execution_count": 32,
   "id": "19e38460",
   "metadata": {},
   "outputs": [],
   "source": [
    "# Add the transcriptions to the DataFrame\n",
    "df['transcription'] = transcriptions"
   ]
  },
  {
   "cell_type": "code",
   "execution_count": 33,
   "id": "e35f99cd",
   "metadata": {},
   "outputs": [
    {
     "name": "stdout",
     "output_type": "stream",
     "text": [
      "Updated CSV file saved to ../csv_files/output_videos.csv\n"
     ]
    }
   ],
   "source": [
    "# Save the updated DataFrame back to the CSV file\n",
    "df.to_csv(csv_file_path, index=False)\n",
    "print(f\"Updated CSV file saved to {csv_file_path}\")"
   ]
  },
  {
   "cell_type": "code",
   "execution_count": 34,
   "id": "3d14fbee",
   "metadata": {},
   "outputs": [],
   "source": [
    "# Create a filepath for the file with transcripts\n",
    "transcript_file = os.path.join('..', 'csv_files','instagram_post_videos_with_transcript.csv')"
   ]
  },
  {
   "cell_type": "code",
   "execution_count": 35,
   "id": "f6916ccc",
   "metadata": {},
   "outputs": [],
   "source": [
    "df.to_csv(transcript_file, index=False)"
   ]
  },
  {
   "cell_type": "code",
   "execution_count": null,
   "id": "ac325f14",
   "metadata": {},
   "outputs": [],
   "source": []
  }
 ],
 "metadata": {
  "kernelspec": {
   "display_name": "Python 3 (ipykernel)",
   "language": "python",
   "name": "python3"
  },
  "language_info": {
   "codemirror_mode": {
    "name": "ipython",
    "version": 3
   },
   "file_extension": ".py",
   "mimetype": "text/x-python",
   "name": "python",
   "nbconvert_exporter": "python",
   "pygments_lexer": "ipython3",
   "version": "3.9.19"
  }
 },
 "nbformat": 4,
 "nbformat_minor": 5
}
