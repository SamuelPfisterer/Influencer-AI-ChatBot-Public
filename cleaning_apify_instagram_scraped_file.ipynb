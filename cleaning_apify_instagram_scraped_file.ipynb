{
 "cells": [
  {
   "cell_type": "code",
   "execution_count": 1,
   "id": "0df003bd",
   "metadata": {},
   "outputs": [
    {
     "name": "stdout",
     "output_type": "stream",
     "text": [
      "Intel MKL WARNING: Support of Intel(R) Streaming SIMD Extensions 4.2 (Intel(R) SSE4.2) enabled only processors has been deprecated. Intel oneAPI Math Kernel Library 2025.0 will require Intel(R) Advanced Vector Extensions (Intel(R) AVX) instructions.\n",
      "Intel MKL WARNING: Support of Intel(R) Streaming SIMD Extensions 4.2 (Intel(R) SSE4.2) enabled only processors has been deprecated. Intel oneAPI Math Kernel Library 2025.0 will require Intel(R) Advanced Vector Extensions (Intel(R) AVX) instructions.\n"
     ]
    }
   ],
   "source": [
    "import pandas as pd\n"
   ]
  },
  {
   "cell_type": "code",
   "execution_count": 2,
   "id": "6ef67c6b",
   "metadata": {},
   "outputs": [],
   "source": [
    "import os\n"
   ]
  },
  {
   "cell_type": "code",
   "execution_count": 3,
   "id": "4077f54f",
   "metadata": {},
   "outputs": [],
   "source": [
    "# Define the relative path to the file from the current directory\n",
    "relative_path = os.path.join('..', 'csv file', 'instagram_post_data.csv')\n",
    "\n",
    "\n"
   ]
  },
  {
   "cell_type": "code",
   "execution_count": 4,
   "id": "e49ea018",
   "metadata": {},
   "outputs": [
    {
     "name": "stdout",
     "output_type": "stream",
     "text": [
      "   alt                                            caption childPosts/0/alt  \\\n",
      "0  NaN  My first ever Best of #hongkong with @fedtan !...              NaN   \n",
      "1  NaN  Best of #paris with @sarahandelman !!! #cityguide              NaN   \n",
      "2  NaN  Best of #losangeles with @omar.apollo plus con...              NaN   \n",
      "3  NaN       Best of #paris with @cgaimari !!! #cityguide              NaN   \n",
      "4  NaN     Best of #paris with @aymennebti !!! #cityguide              NaN   \n",
      "\n",
      "   childPosts/0/caption  childPosts/0/commentsCount  \\\n",
      "0                   NaN                         NaN   \n",
      "1                   NaN                         NaN   \n",
      "2                   NaN                         NaN   \n",
      "3                   NaN                         NaN   \n",
      "4                   NaN                         NaN   \n",
      "\n",
      "   childPosts/0/dimensionsHeight  childPosts/0/dimensionsWidth  \\\n",
      "0                            NaN                           NaN   \n",
      "1                            NaN                           NaN   \n",
      "2                            NaN                           NaN   \n",
      "3                            NaN                           NaN   \n",
      "4                            NaN                           NaN   \n",
      "\n",
      "  childPosts/0/displayUrl  childPosts/0/firstComment  childPosts/0/id  ...  \\\n",
      "0                     NaN                        NaN              NaN  ...   \n",
      "1                     NaN                        NaN              NaN  ...   \n",
      "2                     NaN                        NaN              NaN  ...   \n",
      "3                     NaN                        NaN              NaN  ...   \n",
      "4                     NaN                        NaN              NaN  ...   \n",
      "\n",
      "   taggedUsers/19/is_verified  taggedUsers/19/profile_pic_url  \\\n",
      "0                         NaN                             NaN   \n",
      "1                         NaN                             NaN   \n",
      "2                         NaN                             NaN   \n",
      "3                         NaN                             NaN   \n",
      "4                         NaN                             NaN   \n",
      "\n",
      "  taggedUsers/19/username                 timestamp   type  \\\n",
      "0                     NaN  2024-07-02T16:33:03.000Z  Video   \n",
      "1                     NaN  2024-07-03T17:07:33.000Z  Video   \n",
      "2                     NaN  2024-07-01T16:25:11.000Z  Video   \n",
      "3                     NaN  2024-06-27T18:24:08.000Z  Video   \n",
      "4                     NaN  2024-06-29T17:36:06.000Z  Video   \n",
      "\n",
      "                                        url videoDuration videoPlayCount  \\\n",
      "0  https://www.instagram.com/p/C87U_f2OO_W/        58.033       101325.0   \n",
      "1  https://www.instagram.com/p/C899T74OVlq/        56.448       210235.0   \n",
      "2  https://www.instagram.com/p/C84vRd0OLeG/        57.633       220781.0   \n",
      "3  https://www.instagram.com/p/C8uqGBwP856/        83.448       140207.0   \n",
      "4  https://www.instagram.com/p/C8zt1a9tgn4/        48.266       183729.0   \n",
      "\n",
      "                                            videoUrl  videoViewCount  \n",
      "0  https://scontent.cdninstagram.com/o1/v/t16/f2/...         35028.0  \n",
      "1  https://scontent.cdninstagram.com/o1/v/t16/f2/...         76316.0  \n",
      "2  https://scontent.cdninstagram.com/o1/v/t16/f2/...         80752.0  \n",
      "3  https://scontent.cdninstagram.com/o1/v/t16/f2/...         62227.0  \n",
      "4  https://scontent.cdninstagram.com/o1/v/t16/f2/...         80856.0  \n",
      "\n",
      "[5 rows x 759 columns]\n"
     ]
    }
   ],
   "source": [
    "# Load the CSV file into a DataFrame\n",
    "df = pd.read_csv(relative_path)\n",
    "\n",
    "# Display the DataFrame\n",
    "print(df.head())"
   ]
  },
  {
   "cell_type": "code",
   "execution_count": 8,
   "id": "0ef04e88",
   "metadata": {},
   "outputs": [
    {
     "data": {
      "text/plain": [
       "Index(['alt', 'caption', 'childPosts/0/alt', 'childPosts/0/caption',\n",
       "       'childPosts/0/commentsCount', 'childPosts/0/dimensionsHeight',\n",
       "       'childPosts/0/dimensionsWidth', 'childPosts/0/displayUrl',\n",
       "       'childPosts/0/firstComment', 'childPosts/0/id',\n",
       "       ...\n",
       "       'taggedUsers/19/is_verified', 'taggedUsers/19/profile_pic_url',\n",
       "       'taggedUsers/19/username', 'timestamp', 'type', 'url', 'videoDuration',\n",
       "       'videoPlayCount', 'videoUrl', 'videoViewCount'],\n",
       "      dtype='object', length=759)"
      ]
     },
     "execution_count": 8,
     "metadata": {},
     "output_type": "execute_result"
    }
   ],
   "source": [
    "df.columns"
   ]
  },
  {
   "cell_type": "code",
   "execution_count": 9,
   "id": "20b49302",
   "metadata": {},
   "outputs": [
    {
     "name": "stdout",
     "output_type": "stream",
     "text": [
      "Index(['alt', 'caption', 'childPosts/0/alt', 'childPosts/0/caption',\n",
      "       'childPosts/0/commentsCount', 'childPosts/0/dimensionsHeight',\n",
      "       'childPosts/0/dimensionsWidth', 'childPosts/0/displayUrl',\n",
      "       'childPosts/0/firstComment', 'childPosts/0/id',\n",
      "       ...\n",
      "       'taggedUsers/19/is_verified', 'taggedUsers/19/profile_pic_url',\n",
      "       'taggedUsers/19/username', 'timestamp', 'type', 'url', 'videoDuration',\n",
      "       'videoPlayCount', 'videoUrl', 'videoViewCount'],\n",
      "      dtype='object', length=759)\n"
     ]
    }
   ],
   "source": [
    "print(df.columns)"
   ]
  },
  {
   "cell_type": "code",
   "execution_count": 10,
   "id": "30c3841c",
   "metadata": {},
   "outputs": [
    {
     "name": "stdout",
     "output_type": "stream",
     "text": [
      "['alt', 'caption', 'childPosts/0/alt', 'childPosts/0/caption', 'childPosts/0/commentsCount', 'childPosts/0/dimensionsHeight', 'childPosts/0/dimensionsWidth', 'childPosts/0/displayUrl', 'childPosts/0/firstComment', 'childPosts/0/id', 'childPosts/0/likesCount', 'childPosts/0/ownerId', 'childPosts/0/shortCode', 'childPosts/0/taggedUsers/0/full_name', 'childPosts/0/taggedUsers/0/id', 'childPosts/0/taggedUsers/0/is_verified', 'childPosts/0/taggedUsers/0/profile_pic_url', 'childPosts/0/taggedUsers/0/username', 'childPosts/0/taggedUsers/1/full_name', 'childPosts/0/taggedUsers/1/id', 'childPosts/0/taggedUsers/1/is_verified', 'childPosts/0/taggedUsers/1/profile_pic_url', 'childPosts/0/taggedUsers/1/username', 'childPosts/0/taggedUsers/2/full_name', 'childPosts/0/taggedUsers/2/id', 'childPosts/0/taggedUsers/2/is_verified', 'childPosts/0/taggedUsers/2/profile_pic_url', 'childPosts/0/taggedUsers/2/username', 'childPosts/0/taggedUsers/3/full_name', 'childPosts/0/taggedUsers/3/id', 'childPosts/0/taggedUsers/3/is_verified', 'childPosts/0/taggedUsers/3/profile_pic_url', 'childPosts/0/taggedUsers/3/username', 'childPosts/0/taggedUsers/4/full_name', 'childPosts/0/taggedUsers/4/id', 'childPosts/0/taggedUsers/4/is_verified', 'childPosts/0/taggedUsers/4/profile_pic_url', 'childPosts/0/taggedUsers/4/username', 'childPosts/0/taggedUsers/5/full_name', 'childPosts/0/taggedUsers/5/id', 'childPosts/0/taggedUsers/5/is_verified', 'childPosts/0/taggedUsers/5/profile_pic_url', 'childPosts/0/taggedUsers/5/username', 'childPosts/0/taggedUsers/6/full_name', 'childPosts/0/taggedUsers/6/id', 'childPosts/0/taggedUsers/6/is_verified', 'childPosts/0/taggedUsers/6/profile_pic_url', 'childPosts/0/taggedUsers/6/username', 'childPosts/0/timestamp', 'childPosts/0/type', 'childPosts/0/url', 'childPosts/0/videoPlayCount', 'childPosts/0/videoUrl', 'childPosts/0/videoViewCount', 'childPosts/1/alt', 'childPosts/1/caption', 'childPosts/1/commentsCount', 'childPosts/1/dimensionsHeight', 'childPosts/1/dimensionsWidth', 'childPosts/1/displayUrl', 'childPosts/1/firstComment', 'childPosts/1/id', 'childPosts/1/likesCount', 'childPosts/1/ownerId', 'childPosts/1/shortCode', 'childPosts/1/taggedUsers/0/full_name', 'childPosts/1/taggedUsers/0/id', 'childPosts/1/taggedUsers/0/is_verified', 'childPosts/1/taggedUsers/0/profile_pic_url', 'childPosts/1/taggedUsers/0/username', 'childPosts/1/taggedUsers/1/full_name', 'childPosts/1/taggedUsers/1/id', 'childPosts/1/taggedUsers/1/is_verified', 'childPosts/1/taggedUsers/1/profile_pic_url', 'childPosts/1/taggedUsers/1/username', 'childPosts/1/taggedUsers/2/full_name', 'childPosts/1/taggedUsers/2/id', 'childPosts/1/taggedUsers/2/is_verified', 'childPosts/1/taggedUsers/2/profile_pic_url', 'childPosts/1/taggedUsers/2/username', 'childPosts/1/taggedUsers/3/full_name', 'childPosts/1/taggedUsers/3/id', 'childPosts/1/taggedUsers/3/is_verified', 'childPosts/1/taggedUsers/3/profile_pic_url', 'childPosts/1/taggedUsers/3/username', 'childPosts/1/taggedUsers/4/full_name', 'childPosts/1/taggedUsers/4/id', 'childPosts/1/taggedUsers/4/is_verified', 'childPosts/1/taggedUsers/4/profile_pic_url', 'childPosts/1/taggedUsers/4/username', 'childPosts/1/taggedUsers/5/full_name', 'childPosts/1/taggedUsers/5/id', 'childPosts/1/taggedUsers/5/is_verified', 'childPosts/1/taggedUsers/5/profile_pic_url', 'childPosts/1/taggedUsers/5/username', 'childPosts/1/timestamp', 'childPosts/1/type', 'childPosts/1/url', 'childPosts/1/videoPlayCount', 'childPosts/1/videoUrl', 'childPosts/1/videoViewCount', 'childPosts/2/alt', 'childPosts/2/caption', 'childPosts/2/commentsCount', 'childPosts/2/dimensionsHeight', 'childPosts/2/dimensionsWidth', 'childPosts/2/displayUrl', 'childPosts/2/firstComment', 'childPosts/2/id', 'childPosts/2/likesCount', 'childPosts/2/ownerId', 'childPosts/2/shortCode', 'childPosts/2/taggedUsers/0/full_name', 'childPosts/2/taggedUsers/0/id', 'childPosts/2/taggedUsers/0/is_verified', 'childPosts/2/taggedUsers/0/profile_pic_url', 'childPosts/2/taggedUsers/0/username', 'childPosts/2/taggedUsers/1/full_name', 'childPosts/2/taggedUsers/1/id', 'childPosts/2/taggedUsers/1/is_verified', 'childPosts/2/taggedUsers/1/profile_pic_url', 'childPosts/2/taggedUsers/1/username', 'childPosts/2/taggedUsers/2/full_name', 'childPosts/2/taggedUsers/2/id', 'childPosts/2/taggedUsers/2/is_verified', 'childPosts/2/taggedUsers/2/profile_pic_url', 'childPosts/2/taggedUsers/2/username', 'childPosts/2/taggedUsers/3/full_name', 'childPosts/2/taggedUsers/3/id', 'childPosts/2/taggedUsers/3/is_verified', 'childPosts/2/taggedUsers/3/profile_pic_url', 'childPosts/2/taggedUsers/3/username', 'childPosts/2/taggedUsers/4/full_name', 'childPosts/2/taggedUsers/4/id', 'childPosts/2/taggedUsers/4/is_verified', 'childPosts/2/taggedUsers/4/profile_pic_url', 'childPosts/2/taggedUsers/4/username', 'childPosts/2/taggedUsers/5/full_name', 'childPosts/2/taggedUsers/5/id', 'childPosts/2/taggedUsers/5/is_verified', 'childPosts/2/taggedUsers/5/profile_pic_url', 'childPosts/2/taggedUsers/5/username', 'childPosts/2/taggedUsers/6/full_name', 'childPosts/2/taggedUsers/6/id', 'childPosts/2/taggedUsers/6/is_verified', 'childPosts/2/taggedUsers/6/profile_pic_url', 'childPosts/2/taggedUsers/6/username', 'childPosts/2/timestamp', 'childPosts/2/type', 'childPosts/2/url', 'childPosts/2/videoPlayCount', 'childPosts/2/videoUrl', 'childPosts/2/videoViewCount', 'childPosts/3/alt', 'childPosts/3/caption', 'childPosts/3/commentsCount', 'childPosts/3/dimensionsHeight', 'childPosts/3/dimensionsWidth', 'childPosts/3/displayUrl', 'childPosts/3/firstComment', 'childPosts/3/id', 'childPosts/3/likesCount', 'childPosts/3/ownerId', 'childPosts/3/shortCode', 'childPosts/3/taggedUsers/0/full_name', 'childPosts/3/taggedUsers/0/id', 'childPosts/3/taggedUsers/0/is_verified', 'childPosts/3/taggedUsers/0/profile_pic_url', 'childPosts/3/taggedUsers/0/username', 'childPosts/3/taggedUsers/1/full_name', 'childPosts/3/taggedUsers/1/id', 'childPosts/3/taggedUsers/1/is_verified', 'childPosts/3/taggedUsers/1/profile_pic_url', 'childPosts/3/taggedUsers/1/username', 'childPosts/3/taggedUsers/2/full_name', 'childPosts/3/taggedUsers/2/id', 'childPosts/3/taggedUsers/2/is_verified', 'childPosts/3/taggedUsers/2/profile_pic_url', 'childPosts/3/taggedUsers/2/username', 'childPosts/3/taggedUsers/3/full_name', 'childPosts/3/taggedUsers/3/id', 'childPosts/3/taggedUsers/3/is_verified', 'childPosts/3/taggedUsers/3/profile_pic_url', 'childPosts/3/taggedUsers/3/username', 'childPosts/3/timestamp', 'childPosts/3/type', 'childPosts/3/url', 'childPosts/3/videoPlayCount', 'childPosts/3/videoUrl', 'childPosts/3/videoViewCount', 'childPosts/4/alt', 'childPosts/4/caption', 'childPosts/4/commentsCount', 'childPosts/4/dimensionsHeight', 'childPosts/4/dimensionsWidth', 'childPosts/4/displayUrl', 'childPosts/4/firstComment', 'childPosts/4/id', 'childPosts/4/likesCount', 'childPosts/4/ownerId', 'childPosts/4/shortCode', 'childPosts/4/taggedUsers/0/full_name', 'childPosts/4/taggedUsers/0/id', 'childPosts/4/taggedUsers/0/is_verified', 'childPosts/4/taggedUsers/0/profile_pic_url', 'childPosts/4/taggedUsers/0/username', 'childPosts/4/taggedUsers/1/full_name', 'childPosts/4/taggedUsers/1/id', 'childPosts/4/taggedUsers/1/is_verified', 'childPosts/4/taggedUsers/1/profile_pic_url', 'childPosts/4/taggedUsers/1/username', 'childPosts/4/taggedUsers/2/full_name', 'childPosts/4/taggedUsers/2/id', 'childPosts/4/taggedUsers/2/is_verified', 'childPosts/4/taggedUsers/2/profile_pic_url', 'childPosts/4/taggedUsers/2/username', 'childPosts/4/timestamp', 'childPosts/4/type', 'childPosts/4/url', 'childPosts/4/videoPlayCount', 'childPosts/4/videoUrl', 'childPosts/4/videoViewCount', 'childPosts/5/alt', 'childPosts/5/caption', 'childPosts/5/commentsCount', 'childPosts/5/dimensionsHeight', 'childPosts/5/dimensionsWidth', 'childPosts/5/displayUrl', 'childPosts/5/firstComment', 'childPosts/5/id', 'childPosts/5/likesCount', 'childPosts/5/ownerId', 'childPosts/5/shortCode', 'childPosts/5/taggedUsers/0/full_name', 'childPosts/5/taggedUsers/0/id', 'childPosts/5/taggedUsers/0/is_verified', 'childPosts/5/taggedUsers/0/profile_pic_url', 'childPosts/5/taggedUsers/0/username', 'childPosts/5/taggedUsers/1/full_name', 'childPosts/5/taggedUsers/1/id', 'childPosts/5/taggedUsers/1/is_verified', 'childPosts/5/taggedUsers/1/profile_pic_url', 'childPosts/5/taggedUsers/1/username', 'childPosts/5/taggedUsers/2/full_name', 'childPosts/5/taggedUsers/2/id', 'childPosts/5/taggedUsers/2/is_verified', 'childPosts/5/taggedUsers/2/profile_pic_url', 'childPosts/5/taggedUsers/2/username', 'childPosts/5/timestamp', 'childPosts/5/type', 'childPosts/5/url', 'childPosts/5/videoPlayCount', 'childPosts/5/videoUrl', 'childPosts/5/videoViewCount', 'childPosts/6/alt', 'childPosts/6/caption', 'childPosts/6/commentsCount', 'childPosts/6/dimensionsHeight', 'childPosts/6/dimensionsWidth', 'childPosts/6/displayUrl', 'childPosts/6/firstComment', 'childPosts/6/id', 'childPosts/6/likesCount', 'childPosts/6/ownerId', 'childPosts/6/shortCode', 'childPosts/6/taggedUsers/0/full_name', 'childPosts/6/taggedUsers/0/id', 'childPosts/6/taggedUsers/0/is_verified', 'childPosts/6/taggedUsers/0/profile_pic_url', 'childPosts/6/taggedUsers/0/username', 'childPosts/6/taggedUsers/1/full_name', 'childPosts/6/taggedUsers/1/id', 'childPosts/6/taggedUsers/1/is_verified', 'childPosts/6/taggedUsers/1/profile_pic_url', 'childPosts/6/taggedUsers/1/username', 'childPosts/6/timestamp', 'childPosts/6/type', 'childPosts/6/url', 'childPosts/6/videoPlayCount', 'childPosts/6/videoUrl', 'childPosts/6/videoViewCount', 'childPosts/7/alt', 'childPosts/7/caption', 'childPosts/7/commentsCount', 'childPosts/7/dimensionsHeight', 'childPosts/7/dimensionsWidth', 'childPosts/7/displayUrl', 'childPosts/7/firstComment', 'childPosts/7/id', 'childPosts/7/likesCount', 'childPosts/7/ownerId', 'childPosts/7/shortCode', 'childPosts/7/taggedUsers/0/full_name', 'childPosts/7/taggedUsers/0/id', 'childPosts/7/taggedUsers/0/is_verified', 'childPosts/7/taggedUsers/0/profile_pic_url', 'childPosts/7/taggedUsers/0/username', 'childPosts/7/taggedUsers/1/full_name', 'childPosts/7/taggedUsers/1/id', 'childPosts/7/taggedUsers/1/is_verified', 'childPosts/7/taggedUsers/1/profile_pic_url', 'childPosts/7/taggedUsers/1/username', 'childPosts/7/taggedUsers/2/full_name', 'childPosts/7/taggedUsers/2/id', 'childPosts/7/taggedUsers/2/is_verified', 'childPosts/7/taggedUsers/2/profile_pic_url', 'childPosts/7/taggedUsers/2/username', 'childPosts/7/taggedUsers/3/full_name', 'childPosts/7/taggedUsers/3/id', 'childPosts/7/taggedUsers/3/is_verified', 'childPosts/7/taggedUsers/3/profile_pic_url', 'childPosts/7/taggedUsers/3/username', 'childPosts/7/taggedUsers/4/full_name', 'childPosts/7/taggedUsers/4/id', 'childPosts/7/taggedUsers/4/is_verified', 'childPosts/7/taggedUsers/4/profile_pic_url', 'childPosts/7/taggedUsers/4/username', 'childPosts/7/timestamp', 'childPosts/7/type', 'childPosts/7/url', 'childPosts/7/videoPlayCount', 'childPosts/7/videoUrl', 'childPosts/7/videoViewCount', 'childPosts/8/alt', 'childPosts/8/caption', 'childPosts/8/commentsCount', 'childPosts/8/dimensionsHeight', 'childPosts/8/dimensionsWidth', 'childPosts/8/displayUrl', 'childPosts/8/firstComment', 'childPosts/8/id', 'childPosts/8/likesCount', 'childPosts/8/ownerId', 'childPosts/8/shortCode', 'childPosts/8/taggedUsers/0/full_name', 'childPosts/8/taggedUsers/0/id', 'childPosts/8/taggedUsers/0/is_verified', 'childPosts/8/taggedUsers/0/profile_pic_url', 'childPosts/8/taggedUsers/0/username', 'childPosts/8/taggedUsers/1/full_name', 'childPosts/8/taggedUsers/1/id', 'childPosts/8/taggedUsers/1/is_verified', 'childPosts/8/taggedUsers/1/profile_pic_url', 'childPosts/8/taggedUsers/1/username', 'childPosts/8/taggedUsers/2/full_name', 'childPosts/8/taggedUsers/2/id', 'childPosts/8/taggedUsers/2/is_verified', 'childPosts/8/taggedUsers/2/profile_pic_url', 'childPosts/8/taggedUsers/2/username', 'childPosts/8/taggedUsers/3/full_name', 'childPosts/8/taggedUsers/3/id', 'childPosts/8/taggedUsers/3/is_verified', 'childPosts/8/taggedUsers/3/profile_pic_url', 'childPosts/8/taggedUsers/3/username', 'childPosts/8/taggedUsers/4/full_name', 'childPosts/8/taggedUsers/4/id', 'childPosts/8/taggedUsers/4/is_verified', 'childPosts/8/taggedUsers/4/profile_pic_url', 'childPosts/8/taggedUsers/4/username', 'childPosts/8/taggedUsers/5/full_name', 'childPosts/8/taggedUsers/5/id', 'childPosts/8/taggedUsers/5/is_verified', 'childPosts/8/taggedUsers/5/profile_pic_url', 'childPosts/8/taggedUsers/5/username', 'childPosts/8/timestamp', 'childPosts/8/type', 'childPosts/8/url', 'childPosts/8/videoPlayCount', 'childPosts/8/videoUrl', 'childPosts/8/videoViewCount', 'childPosts/9/alt', 'childPosts/9/caption', 'childPosts/9/commentsCount', 'childPosts/9/dimensionsHeight', 'childPosts/9/dimensionsWidth', 'childPosts/9/displayUrl', 'childPosts/9/firstComment', 'childPosts/9/id', 'childPosts/9/likesCount', 'childPosts/9/ownerId', 'childPosts/9/shortCode', 'childPosts/9/taggedUsers/0/full_name', 'childPosts/9/taggedUsers/0/id', 'childPosts/9/taggedUsers/0/is_verified', 'childPosts/9/taggedUsers/0/profile_pic_url', 'childPosts/9/taggedUsers/0/username', 'childPosts/9/taggedUsers/1/full_name', 'childPosts/9/taggedUsers/1/id', 'childPosts/9/taggedUsers/1/is_verified', 'childPosts/9/taggedUsers/1/profile_pic_url', 'childPosts/9/taggedUsers/1/username', 'childPosts/9/timestamp', 'childPosts/9/type', 'childPosts/9/url', 'childPosts/9/videoPlayCount', 'childPosts/9/videoUrl', 'childPosts/9/videoViewCount', 'coauthorProducers/0/id', 'coauthorProducers/0/is_verified', 'coauthorProducers/0/profile_pic_url', 'coauthorProducers/0/username', 'coauthorProducers/1/id', 'coauthorProducers/1/is_verified', 'coauthorProducers/1/profile_pic_url', 'coauthorProducers/1/username', 'commentsCount', 'dimensionsHeight', 'dimensionsWidth', 'displayUrl', 'firstComment', 'hashtags/0', 'hashtags/1', 'hashtags/2', 'hashtags/3', 'hashtags/4', 'hashtags/5', 'hashtags/6', 'hashtags/7', 'hashtags/8', 'hashtags/9', 'hashtags/10', 'hashtags/11', 'id', 'images/0', 'images/1', 'images/2', 'images/3', 'images/4', 'images/5', 'images/6', 'images/7', 'images/8', 'images/9', 'inputUrl', 'isPinned', 'isSponsored', 'latestComments/0/id', 'latestComments/0/likesCount', 'latestComments/0/ownerProfilePicUrl', 'latestComments/0/ownerUsername', 'latestComments/0/replies/0/id', 'latestComments/0/replies/0/likesCount', 'latestComments/0/replies/0/ownerProfilePicUrl', 'latestComments/0/replies/0/ownerUsername', 'latestComments/0/replies/0/text', 'latestComments/0/replies/0/timestamp', 'latestComments/0/replies/1/id', 'latestComments/0/replies/1/likesCount', 'latestComments/0/replies/1/ownerProfilePicUrl', 'latestComments/0/replies/1/ownerUsername', 'latestComments/0/replies/1/text', 'latestComments/0/replies/1/timestamp', 'latestComments/0/replies/2/id', 'latestComments/0/replies/2/likesCount', 'latestComments/0/replies/2/ownerProfilePicUrl', 'latestComments/0/replies/2/ownerUsername', 'latestComments/0/replies/2/text', 'latestComments/0/replies/2/timestamp', 'latestComments/0/repliesCount', 'latestComments/0/text', 'latestComments/0/timestamp', 'latestComments/1/id', 'latestComments/1/likesCount', 'latestComments/1/ownerProfilePicUrl', 'latestComments/1/ownerUsername', 'latestComments/1/replies/0/id', 'latestComments/1/replies/0/likesCount', 'latestComments/1/replies/0/ownerProfilePicUrl', 'latestComments/1/replies/0/ownerUsername', 'latestComments/1/replies/0/text', 'latestComments/1/replies/0/timestamp', 'latestComments/1/replies/1/id', 'latestComments/1/replies/1/likesCount', 'latestComments/1/replies/1/ownerProfilePicUrl', 'latestComments/1/replies/1/ownerUsername', 'latestComments/1/replies/1/text', 'latestComments/1/replies/1/timestamp', 'latestComments/1/repliesCount', 'latestComments/1/text', 'latestComments/1/timestamp', 'latestComments/2/id', 'latestComments/2/likesCount', 'latestComments/2/ownerProfilePicUrl', 'latestComments/2/ownerUsername', 'latestComments/2/replies/0/id', 'latestComments/2/replies/0/likesCount', 'latestComments/2/replies/0/ownerProfilePicUrl', 'latestComments/2/replies/0/ownerUsername', 'latestComments/2/replies/0/text', 'latestComments/2/replies/0/timestamp', 'latestComments/2/replies/1/id', 'latestComments/2/replies/1/likesCount', 'latestComments/2/replies/1/ownerProfilePicUrl', 'latestComments/2/replies/1/ownerUsername', 'latestComments/2/replies/1/text', 'latestComments/2/replies/1/timestamp', 'latestComments/2/repliesCount', 'latestComments/2/text', 'latestComments/2/timestamp', 'latestComments/3/id', 'latestComments/3/likesCount', 'latestComments/3/ownerProfilePicUrl', 'latestComments/3/ownerUsername', 'latestComments/3/replies/0/id', 'latestComments/3/replies/0/likesCount', 'latestComments/3/replies/0/ownerProfilePicUrl', 'latestComments/3/replies/0/ownerUsername', 'latestComments/3/replies/0/text', 'latestComments/3/replies/0/timestamp', 'latestComments/3/replies/1/id', 'latestComments/3/replies/1/likesCount', 'latestComments/3/replies/1/ownerProfilePicUrl', 'latestComments/3/replies/1/ownerUsername', 'latestComments/3/replies/1/text', 'latestComments/3/replies/1/timestamp', 'latestComments/3/repliesCount', 'latestComments/3/text', 'latestComments/3/timestamp', 'latestComments/4/id', 'latestComments/4/likesCount', 'latestComments/4/ownerProfilePicUrl', 'latestComments/4/ownerUsername', 'latestComments/4/replies/0/id', 'latestComments/4/replies/0/likesCount', 'latestComments/4/replies/0/ownerProfilePicUrl', 'latestComments/4/replies/0/ownerUsername', 'latestComments/4/replies/0/text', 'latestComments/4/replies/0/timestamp', 'latestComments/4/replies/1/id', 'latestComments/4/replies/1/likesCount', 'latestComments/4/replies/1/ownerProfilePicUrl', 'latestComments/4/replies/1/ownerUsername', 'latestComments/4/replies/1/text', 'latestComments/4/replies/1/timestamp', 'latestComments/4/replies/2/id', 'latestComments/4/replies/2/likesCount', 'latestComments/4/replies/2/ownerProfilePicUrl', 'latestComments/4/replies/2/ownerUsername', 'latestComments/4/replies/2/text', 'latestComments/4/replies/2/timestamp', 'latestComments/4/repliesCount', 'latestComments/4/text', 'latestComments/4/timestamp', 'latestComments/5/id', 'latestComments/5/likesCount', 'latestComments/5/ownerProfilePicUrl', 'latestComments/5/ownerUsername', 'latestComments/5/replies/0/id', 'latestComments/5/replies/0/likesCount', 'latestComments/5/replies/0/ownerProfilePicUrl', 'latestComments/5/replies/0/ownerUsername', 'latestComments/5/replies/0/text', 'latestComments/5/replies/0/timestamp', 'latestComments/5/replies/1/id', 'latestComments/5/replies/1/likesCount', 'latestComments/5/replies/1/ownerProfilePicUrl', 'latestComments/5/replies/1/ownerUsername', 'latestComments/5/replies/1/text', 'latestComments/5/replies/1/timestamp', 'latestComments/5/repliesCount', 'latestComments/5/text', 'latestComments/5/timestamp', 'latestComments/6/id', 'latestComments/6/likesCount', 'latestComments/6/ownerProfilePicUrl', 'latestComments/6/ownerUsername', 'latestComments/6/replies/0/id', 'latestComments/6/replies/0/likesCount', 'latestComments/6/replies/0/ownerProfilePicUrl', 'latestComments/6/replies/0/ownerUsername', 'latestComments/6/replies/0/text', 'latestComments/6/replies/0/timestamp', 'latestComments/6/replies/1/id', 'latestComments/6/replies/1/likesCount', 'latestComments/6/replies/1/ownerProfilePicUrl', 'latestComments/6/replies/1/ownerUsername', 'latestComments/6/replies/1/text', 'latestComments/6/replies/1/timestamp', 'latestComments/6/repliesCount', 'latestComments/6/text', 'latestComments/6/timestamp', 'latestComments/7/id', 'latestComments/7/likesCount', 'latestComments/7/ownerProfilePicUrl', 'latestComments/7/ownerUsername', 'latestComments/7/replies/0/id', 'latestComments/7/replies/0/likesCount', 'latestComments/7/replies/0/ownerProfilePicUrl', 'latestComments/7/replies/0/ownerUsername', 'latestComments/7/replies/0/text', 'latestComments/7/replies/0/timestamp', 'latestComments/7/replies/1/id', 'latestComments/7/replies/1/likesCount', 'latestComments/7/replies/1/ownerProfilePicUrl', 'latestComments/7/replies/1/ownerUsername', 'latestComments/7/replies/1/text', 'latestComments/7/replies/1/timestamp', 'latestComments/7/repliesCount', 'latestComments/7/text', 'latestComments/7/timestamp', 'latestComments/8/id', 'latestComments/8/likesCount', 'latestComments/8/ownerProfilePicUrl', 'latestComments/8/ownerUsername', 'latestComments/8/replies/0/id', 'latestComments/8/replies/0/likesCount', 'latestComments/8/replies/0/ownerProfilePicUrl', 'latestComments/8/replies/0/ownerUsername', 'latestComments/8/replies/0/text', 'latestComments/8/replies/0/timestamp', 'latestComments/8/repliesCount', 'latestComments/8/text', 'latestComments/8/timestamp', 'latestComments/9/id', 'latestComments/9/likesCount', 'latestComments/9/ownerProfilePicUrl', 'latestComments/9/ownerUsername', 'latestComments/9/repliesCount', 'latestComments/9/text', 'latestComments/9/timestamp', 'likesCount', 'locationId', 'locationName', 'mentions/0', 'mentions/1', 'mentions/2', 'mentions/3', 'mentions/4', 'mentions/5', 'mentions/6', 'mentions/7', 'mentions/8', 'mentions/9', 'mentions/10', 'mentions/11', 'mentions/12', 'mentions/13', 'mentions/14', 'musicInfo/artist_name', 'musicInfo/audio_id', 'musicInfo/should_mute_audio', 'musicInfo/should_mute_audio_reason', 'musicInfo/song_name', 'musicInfo/uses_original_audio', 'ownerFullName', 'ownerId', 'ownerUsername', 'paidPartnership', 'productType', 'shortCode', 'sponsors/0/id', 'sponsors/0/username', 'taggedUsers/0/full_name', 'taggedUsers/0/id', 'taggedUsers/0/is_verified', 'taggedUsers/0/profile_pic_url', 'taggedUsers/0/username', 'taggedUsers/1/full_name', 'taggedUsers/1/id', 'taggedUsers/1/is_verified', 'taggedUsers/1/profile_pic_url', 'taggedUsers/1/username', 'taggedUsers/2/full_name', 'taggedUsers/2/id', 'taggedUsers/2/is_verified', 'taggedUsers/2/profile_pic_url', 'taggedUsers/2/username', 'taggedUsers/3/full_name', 'taggedUsers/3/id', 'taggedUsers/3/is_verified', 'taggedUsers/3/profile_pic_url', 'taggedUsers/3/username', 'taggedUsers/4/full_name', 'taggedUsers/4/id', 'taggedUsers/4/is_verified', 'taggedUsers/4/profile_pic_url', 'taggedUsers/4/username', 'taggedUsers/5/full_name', 'taggedUsers/5/id', 'taggedUsers/5/is_verified', 'taggedUsers/5/profile_pic_url', 'taggedUsers/5/username', 'taggedUsers/6/full_name', 'taggedUsers/6/id', 'taggedUsers/6/is_verified', 'taggedUsers/6/profile_pic_url', 'taggedUsers/6/username', 'taggedUsers/7/full_name', 'taggedUsers/7/id', 'taggedUsers/7/is_verified', 'taggedUsers/7/profile_pic_url', 'taggedUsers/7/username', 'taggedUsers/8/full_name', 'taggedUsers/8/id', 'taggedUsers/8/is_verified', 'taggedUsers/8/profile_pic_url', 'taggedUsers/8/username', 'taggedUsers/9/full_name', 'taggedUsers/9/id', 'taggedUsers/9/is_verified', 'taggedUsers/9/profile_pic_url', 'taggedUsers/9/username', 'taggedUsers/10/full_name', 'taggedUsers/10/id', 'taggedUsers/10/is_verified', 'taggedUsers/10/profile_pic_url', 'taggedUsers/10/username', 'taggedUsers/11/full_name', 'taggedUsers/11/id', 'taggedUsers/11/is_verified', 'taggedUsers/11/profile_pic_url', 'taggedUsers/11/username', 'taggedUsers/12/full_name', 'taggedUsers/12/id', 'taggedUsers/12/is_verified', 'taggedUsers/12/profile_pic_url', 'taggedUsers/12/username', 'taggedUsers/13/full_name', 'taggedUsers/13/id', 'taggedUsers/13/is_verified', 'taggedUsers/13/profile_pic_url', 'taggedUsers/13/username', 'taggedUsers/14/full_name', 'taggedUsers/14/id', 'taggedUsers/14/is_verified', 'taggedUsers/14/profile_pic_url', 'taggedUsers/14/username', 'taggedUsers/15/full_name', 'taggedUsers/15/id', 'taggedUsers/15/is_verified', 'taggedUsers/15/profile_pic_url', 'taggedUsers/15/username', 'taggedUsers/16/full_name', 'taggedUsers/16/id', 'taggedUsers/16/is_verified', 'taggedUsers/16/profile_pic_url', 'taggedUsers/16/username', 'taggedUsers/17/full_name', 'taggedUsers/17/id', 'taggedUsers/17/is_verified', 'taggedUsers/17/profile_pic_url', 'taggedUsers/17/username', 'taggedUsers/18/full_name', 'taggedUsers/18/id', 'taggedUsers/18/is_verified', 'taggedUsers/18/profile_pic_url', 'taggedUsers/18/username', 'taggedUsers/19/full_name', 'taggedUsers/19/id', 'taggedUsers/19/is_verified', 'taggedUsers/19/profile_pic_url', 'taggedUsers/19/username', 'timestamp', 'type', 'url', 'videoDuration', 'videoPlayCount', 'videoUrl', 'videoViewCount']\n"
     ]
    }
   ],
   "source": [
    "columns_list = list(df.columns)\n",
    "print(columns_list)\n"
   ]
  },
  {
   "cell_type": "code",
   "execution_count": 12,
   "id": "12eac6f3",
   "metadata": {},
   "outputs": [],
   "source": [
    "columns_to_drop = [col for col in df.columns if 'tagged' in col]\n",
    "df.drop(columns=columns_to_drop, inplace=True)\n"
   ]
  },
  {
   "cell_type": "code",
   "execution_count": 15,
   "id": "77dcc3d4",
   "metadata": {},
   "outputs": [
    {
     "name": "stdout",
     "output_type": "stream",
     "text": [
      "['alt', 'caption', 'childPosts/0/alt', 'childPosts/0/caption', 'childPosts/0/commentsCount', 'childPosts/0/displayUrl', 'childPosts/0/firstComment', 'childPosts/0/id', 'childPosts/0/likesCount', 'childPosts/0/ownerId', 'childPosts/0/shortCode', 'childPosts/0/timestamp', 'childPosts/0/type', 'childPosts/0/url', 'childPosts/0/videoPlayCount', 'childPosts/0/videoUrl', 'childPosts/0/videoViewCount', 'childPosts/1/alt', 'childPosts/1/caption', 'childPosts/1/commentsCount', 'childPosts/1/displayUrl', 'childPosts/1/firstComment', 'childPosts/1/id', 'childPosts/1/likesCount', 'childPosts/1/ownerId', 'childPosts/1/shortCode', 'childPosts/1/timestamp', 'childPosts/1/type', 'childPosts/1/url', 'childPosts/1/videoPlayCount', 'childPosts/1/videoUrl', 'childPosts/1/videoViewCount', 'childPosts/2/alt', 'childPosts/2/caption', 'childPosts/2/commentsCount', 'childPosts/2/displayUrl', 'childPosts/2/firstComment', 'childPosts/2/id', 'childPosts/2/likesCount', 'childPosts/2/ownerId', 'childPosts/2/shortCode', 'childPosts/2/timestamp', 'childPosts/2/type', 'childPosts/2/url', 'childPosts/2/videoPlayCount', 'childPosts/2/videoUrl', 'childPosts/2/videoViewCount', 'childPosts/3/alt', 'childPosts/3/caption', 'childPosts/3/commentsCount', 'childPosts/3/displayUrl', 'childPosts/3/firstComment', 'childPosts/3/id', 'childPosts/3/likesCount', 'childPosts/3/ownerId', 'childPosts/3/shortCode', 'childPosts/3/timestamp', 'childPosts/3/type', 'childPosts/3/url', 'childPosts/3/videoPlayCount', 'childPosts/3/videoUrl', 'childPosts/3/videoViewCount', 'childPosts/4/alt', 'childPosts/4/caption', 'childPosts/4/commentsCount', 'childPosts/4/displayUrl', 'childPosts/4/firstComment', 'childPosts/4/id', 'childPosts/4/likesCount', 'childPosts/4/ownerId', 'childPosts/4/shortCode', 'childPosts/4/timestamp', 'childPosts/4/type', 'childPosts/4/url', 'childPosts/4/videoPlayCount', 'childPosts/4/videoUrl', 'childPosts/4/videoViewCount', 'childPosts/5/alt', 'childPosts/5/caption', 'childPosts/5/commentsCount', 'childPosts/5/displayUrl', 'childPosts/5/firstComment', 'childPosts/5/id', 'childPosts/5/likesCount', 'childPosts/5/ownerId', 'childPosts/5/shortCode', 'childPosts/5/timestamp', 'childPosts/5/type', 'childPosts/5/url', 'childPosts/5/videoPlayCount', 'childPosts/5/videoUrl', 'childPosts/5/videoViewCount', 'childPosts/6/alt', 'childPosts/6/caption', 'childPosts/6/commentsCount', 'childPosts/6/displayUrl', 'childPosts/6/firstComment', 'childPosts/6/id', 'childPosts/6/likesCount', 'childPosts/6/ownerId', 'childPosts/6/shortCode', 'childPosts/6/timestamp', 'childPosts/6/type', 'childPosts/6/url', 'childPosts/6/videoPlayCount', 'childPosts/6/videoUrl', 'childPosts/6/videoViewCount', 'childPosts/7/alt', 'childPosts/7/caption', 'childPosts/7/commentsCount', 'childPosts/7/displayUrl', 'childPosts/7/firstComment', 'childPosts/7/id', 'childPosts/7/likesCount', 'childPosts/7/ownerId', 'childPosts/7/shortCode', 'childPosts/7/timestamp', 'childPosts/7/type', 'childPosts/7/url', 'childPosts/7/videoPlayCount', 'childPosts/7/videoUrl', 'childPosts/7/videoViewCount', 'childPosts/8/alt', 'childPosts/8/caption', 'childPosts/8/commentsCount', 'childPosts/8/displayUrl', 'childPosts/8/firstComment', 'childPosts/8/id', 'childPosts/8/likesCount', 'childPosts/8/ownerId', 'childPosts/8/shortCode', 'childPosts/8/timestamp', 'childPosts/8/type', 'childPosts/8/url', 'childPosts/8/videoPlayCount', 'childPosts/8/videoUrl', 'childPosts/8/videoViewCount', 'childPosts/9/alt', 'childPosts/9/caption', 'childPosts/9/commentsCount', 'childPosts/9/displayUrl', 'childPosts/9/firstComment', 'childPosts/9/id', 'childPosts/9/likesCount', 'childPosts/9/ownerId', 'childPosts/9/shortCode', 'childPosts/9/timestamp', 'childPosts/9/type', 'childPosts/9/url', 'childPosts/9/videoPlayCount', 'childPosts/9/videoUrl', 'childPosts/9/videoViewCount', 'coauthorProducers/0/id', 'coauthorProducers/0/is_verified', 'coauthorProducers/0/profile_pic_url', 'coauthorProducers/0/username', 'coauthorProducers/1/id', 'coauthorProducers/1/is_verified', 'coauthorProducers/1/profile_pic_url', 'coauthorProducers/1/username', 'commentsCount', 'displayUrl', 'firstComment', 'hashtags/0', 'hashtags/1', 'hashtags/2', 'hashtags/3', 'hashtags/4', 'hashtags/5', 'hashtags/6', 'hashtags/7', 'hashtags/8', 'hashtags/9', 'hashtags/10', 'hashtags/11', 'id', 'images/0', 'images/1', 'images/2', 'images/3', 'images/4', 'images/5', 'images/6', 'images/7', 'images/8', 'images/9', 'inputUrl', 'isPinned', 'isSponsored', 'latestComments/0/id', 'latestComments/0/likesCount', 'latestComments/0/ownerProfilePicUrl', 'latestComments/0/ownerUsername', 'latestComments/0/replies/0/id', 'latestComments/0/replies/0/likesCount', 'latestComments/0/replies/0/ownerProfilePicUrl', 'latestComments/0/replies/0/ownerUsername', 'latestComments/0/replies/0/text', 'latestComments/0/replies/0/timestamp', 'latestComments/0/replies/1/id', 'latestComments/0/replies/1/likesCount', 'latestComments/0/replies/1/ownerProfilePicUrl', 'latestComments/0/replies/1/ownerUsername', 'latestComments/0/replies/1/text', 'latestComments/0/replies/1/timestamp', 'latestComments/0/replies/2/id', 'latestComments/0/replies/2/likesCount', 'latestComments/0/replies/2/ownerProfilePicUrl', 'latestComments/0/replies/2/ownerUsername', 'latestComments/0/replies/2/text', 'latestComments/0/replies/2/timestamp', 'latestComments/0/repliesCount', 'latestComments/0/text', 'latestComments/0/timestamp', 'latestComments/1/id', 'latestComments/1/likesCount', 'latestComments/1/ownerProfilePicUrl', 'latestComments/1/ownerUsername', 'latestComments/1/replies/0/id', 'latestComments/1/replies/0/likesCount', 'latestComments/1/replies/0/ownerProfilePicUrl', 'latestComments/1/replies/0/ownerUsername', 'latestComments/1/replies/0/text', 'latestComments/1/replies/0/timestamp', 'latestComments/1/replies/1/id', 'latestComments/1/replies/1/likesCount', 'latestComments/1/replies/1/ownerProfilePicUrl', 'latestComments/1/replies/1/ownerUsername', 'latestComments/1/replies/1/text', 'latestComments/1/replies/1/timestamp', 'latestComments/1/repliesCount', 'latestComments/1/text', 'latestComments/1/timestamp', 'latestComments/2/id', 'latestComments/2/likesCount', 'latestComments/2/ownerProfilePicUrl', 'latestComments/2/ownerUsername', 'latestComments/2/replies/0/id', 'latestComments/2/replies/0/likesCount', 'latestComments/2/replies/0/ownerProfilePicUrl', 'latestComments/2/replies/0/ownerUsername', 'latestComments/2/replies/0/text', 'latestComments/2/replies/0/timestamp', 'latestComments/2/replies/1/id', 'latestComments/2/replies/1/likesCount', 'latestComments/2/replies/1/ownerProfilePicUrl', 'latestComments/2/replies/1/ownerUsername', 'latestComments/2/replies/1/text', 'latestComments/2/replies/1/timestamp', 'latestComments/2/repliesCount', 'latestComments/2/text', 'latestComments/2/timestamp', 'latestComments/3/id', 'latestComments/3/likesCount', 'latestComments/3/ownerProfilePicUrl', 'latestComments/3/ownerUsername', 'latestComments/3/replies/0/id', 'latestComments/3/replies/0/likesCount', 'latestComments/3/replies/0/ownerProfilePicUrl', 'latestComments/3/replies/0/ownerUsername', 'latestComments/3/replies/0/text', 'latestComments/3/replies/0/timestamp', 'latestComments/3/replies/1/id', 'latestComments/3/replies/1/likesCount', 'latestComments/3/replies/1/ownerProfilePicUrl', 'latestComments/3/replies/1/ownerUsername', 'latestComments/3/replies/1/text', 'latestComments/3/replies/1/timestamp', 'latestComments/3/repliesCount', 'latestComments/3/text', 'latestComments/3/timestamp', 'latestComments/4/id', 'latestComments/4/likesCount', 'latestComments/4/ownerProfilePicUrl', 'latestComments/4/ownerUsername', 'latestComments/4/replies/0/id', 'latestComments/4/replies/0/likesCount', 'latestComments/4/replies/0/ownerProfilePicUrl', 'latestComments/4/replies/0/ownerUsername', 'latestComments/4/replies/0/text', 'latestComments/4/replies/0/timestamp', 'latestComments/4/replies/1/id', 'latestComments/4/replies/1/likesCount', 'latestComments/4/replies/1/ownerProfilePicUrl', 'latestComments/4/replies/1/ownerUsername', 'latestComments/4/replies/1/text', 'latestComments/4/replies/1/timestamp', 'latestComments/4/replies/2/id', 'latestComments/4/replies/2/likesCount', 'latestComments/4/replies/2/ownerProfilePicUrl', 'latestComments/4/replies/2/ownerUsername', 'latestComments/4/replies/2/text', 'latestComments/4/replies/2/timestamp', 'latestComments/4/repliesCount', 'latestComments/4/text', 'latestComments/4/timestamp', 'latestComments/5/id', 'latestComments/5/likesCount', 'latestComments/5/ownerProfilePicUrl', 'latestComments/5/ownerUsername', 'latestComments/5/replies/0/id', 'latestComments/5/replies/0/likesCount', 'latestComments/5/replies/0/ownerProfilePicUrl', 'latestComments/5/replies/0/ownerUsername', 'latestComments/5/replies/0/text', 'latestComments/5/replies/0/timestamp', 'latestComments/5/replies/1/id', 'latestComments/5/replies/1/likesCount', 'latestComments/5/replies/1/ownerProfilePicUrl', 'latestComments/5/replies/1/ownerUsername', 'latestComments/5/replies/1/text', 'latestComments/5/replies/1/timestamp', 'latestComments/5/repliesCount', 'latestComments/5/text', 'latestComments/5/timestamp', 'latestComments/6/id', 'latestComments/6/likesCount', 'latestComments/6/ownerProfilePicUrl', 'latestComments/6/ownerUsername', 'latestComments/6/replies/0/id', 'latestComments/6/replies/0/likesCount', 'latestComments/6/replies/0/ownerProfilePicUrl', 'latestComments/6/replies/0/ownerUsername', 'latestComments/6/replies/0/text', 'latestComments/6/replies/0/timestamp', 'latestComments/6/replies/1/id', 'latestComments/6/replies/1/likesCount', 'latestComments/6/replies/1/ownerProfilePicUrl', 'latestComments/6/replies/1/ownerUsername', 'latestComments/6/replies/1/text', 'latestComments/6/replies/1/timestamp', 'latestComments/6/repliesCount', 'latestComments/6/text', 'latestComments/6/timestamp', 'latestComments/7/id', 'latestComments/7/likesCount', 'latestComments/7/ownerProfilePicUrl', 'latestComments/7/ownerUsername', 'latestComments/7/replies/0/id', 'latestComments/7/replies/0/likesCount', 'latestComments/7/replies/0/ownerProfilePicUrl', 'latestComments/7/replies/0/ownerUsername', 'latestComments/7/replies/0/text', 'latestComments/7/replies/0/timestamp', 'latestComments/7/replies/1/id', 'latestComments/7/replies/1/likesCount', 'latestComments/7/replies/1/ownerProfilePicUrl', 'latestComments/7/replies/1/ownerUsername', 'latestComments/7/replies/1/text', 'latestComments/7/replies/1/timestamp', 'latestComments/7/repliesCount', 'latestComments/7/text', 'latestComments/7/timestamp', 'latestComments/8/id', 'latestComments/8/likesCount', 'latestComments/8/ownerProfilePicUrl', 'latestComments/8/ownerUsername', 'latestComments/8/replies/0/id', 'latestComments/8/replies/0/likesCount', 'latestComments/8/replies/0/ownerProfilePicUrl', 'latestComments/8/replies/0/ownerUsername', 'latestComments/8/replies/0/text', 'latestComments/8/replies/0/timestamp', 'latestComments/8/repliesCount', 'latestComments/8/text', 'latestComments/8/timestamp', 'latestComments/9/id', 'latestComments/9/likesCount', 'latestComments/9/ownerProfilePicUrl', 'latestComments/9/ownerUsername', 'latestComments/9/repliesCount', 'latestComments/9/text', 'latestComments/9/timestamp', 'likesCount', 'locationId', 'locationName', 'mentions/0', 'mentions/1', 'mentions/2', 'mentions/3', 'mentions/4', 'mentions/5', 'mentions/6', 'mentions/7', 'mentions/8', 'mentions/9', 'mentions/10', 'mentions/11', 'mentions/12', 'mentions/13', 'mentions/14', 'musicInfo/artist_name', 'musicInfo/audio_id', 'musicInfo/should_mute_audio', 'musicInfo/should_mute_audio_reason', 'musicInfo/song_name', 'musicInfo/uses_original_audio', 'ownerFullName', 'ownerId', 'ownerUsername', 'paidPartnership', 'productType', 'shortCode', 'sponsors/0/id', 'sponsors/0/username', 'timestamp', 'type', 'url', 'videoDuration', 'videoPlayCount', 'videoUrl', 'videoViewCount']\n"
     ]
    }
   ],
   "source": [
    "columns_list = list(df.columns)\n",
    "print(columns_list)"
   ]
  },
  {
   "cell_type": "code",
   "execution_count": 20,
   "id": "49bf4a20",
   "metadata": {},
   "outputs": [],
   "source": [
    "# List comprehension to find columns with 'count' or 'dimension' in their name\n",
    "columns_to_drop = [col for col in df.columns if 'Count' in col or 'dimension' in col or 'Comment' in col]\n",
    "# Drop the columns\n",
    "df.drop(columns=columns_to_drop, inplace=True)"
   ]
  },
  {
   "cell_type": "code",
   "execution_count": 21,
   "id": "9b8b0ca3",
   "metadata": {},
   "outputs": [
    {
     "name": "stdout",
     "output_type": "stream",
     "text": [
      "['alt', 'caption', 'childPosts/0/alt', 'childPosts/0/caption', 'childPosts/0/displayUrl', 'childPosts/0/id', 'childPosts/0/ownerId', 'childPosts/0/shortCode', 'childPosts/0/timestamp', 'childPosts/0/type', 'childPosts/0/url', 'childPosts/0/videoUrl', 'childPosts/1/alt', 'childPosts/1/caption', 'childPosts/1/displayUrl', 'childPosts/1/id', 'childPosts/1/ownerId', 'childPosts/1/shortCode', 'childPosts/1/timestamp', 'childPosts/1/type', 'childPosts/1/url', 'childPosts/1/videoUrl', 'childPosts/2/alt', 'childPosts/2/caption', 'childPosts/2/displayUrl', 'childPosts/2/id', 'childPosts/2/ownerId', 'childPosts/2/shortCode', 'childPosts/2/timestamp', 'childPosts/2/type', 'childPosts/2/url', 'childPosts/2/videoUrl', 'childPosts/3/alt', 'childPosts/3/caption', 'childPosts/3/displayUrl', 'childPosts/3/id', 'childPosts/3/ownerId', 'childPosts/3/shortCode', 'childPosts/3/timestamp', 'childPosts/3/type', 'childPosts/3/url', 'childPosts/3/videoUrl', 'childPosts/4/alt', 'childPosts/4/caption', 'childPosts/4/displayUrl', 'childPosts/4/id', 'childPosts/4/ownerId', 'childPosts/4/shortCode', 'childPosts/4/timestamp', 'childPosts/4/type', 'childPosts/4/url', 'childPosts/4/videoUrl', 'childPosts/5/alt', 'childPosts/5/caption', 'childPosts/5/displayUrl', 'childPosts/5/id', 'childPosts/5/ownerId', 'childPosts/5/shortCode', 'childPosts/5/timestamp', 'childPosts/5/type', 'childPosts/5/url', 'childPosts/5/videoUrl', 'childPosts/6/alt', 'childPosts/6/caption', 'childPosts/6/displayUrl', 'childPosts/6/id', 'childPosts/6/ownerId', 'childPosts/6/shortCode', 'childPosts/6/timestamp', 'childPosts/6/type', 'childPosts/6/url', 'childPosts/6/videoUrl', 'childPosts/7/alt', 'childPosts/7/caption', 'childPosts/7/displayUrl', 'childPosts/7/id', 'childPosts/7/ownerId', 'childPosts/7/shortCode', 'childPosts/7/timestamp', 'childPosts/7/type', 'childPosts/7/url', 'childPosts/7/videoUrl', 'childPosts/8/alt', 'childPosts/8/caption', 'childPosts/8/displayUrl', 'childPosts/8/id', 'childPosts/8/ownerId', 'childPosts/8/shortCode', 'childPosts/8/timestamp', 'childPosts/8/type', 'childPosts/8/url', 'childPosts/8/videoUrl', 'childPosts/9/alt', 'childPosts/9/caption', 'childPosts/9/displayUrl', 'childPosts/9/id', 'childPosts/9/ownerId', 'childPosts/9/shortCode', 'childPosts/9/timestamp', 'childPosts/9/type', 'childPosts/9/url', 'childPosts/9/videoUrl', 'coauthorProducers/0/id', 'coauthorProducers/0/is_verified', 'coauthorProducers/0/profile_pic_url', 'coauthorProducers/0/username', 'coauthorProducers/1/id', 'coauthorProducers/1/is_verified', 'coauthorProducers/1/profile_pic_url', 'coauthorProducers/1/username', 'displayUrl', 'hashtags/0', 'hashtags/1', 'hashtags/2', 'hashtags/3', 'hashtags/4', 'hashtags/5', 'hashtags/6', 'hashtags/7', 'hashtags/8', 'hashtags/9', 'hashtags/10', 'hashtags/11', 'id', 'images/0', 'images/1', 'images/2', 'images/3', 'images/4', 'images/5', 'images/6', 'images/7', 'images/8', 'images/9', 'inputUrl', 'isPinned', 'isSponsored', 'locationId', 'locationName', 'mentions/0', 'mentions/1', 'mentions/2', 'mentions/3', 'mentions/4', 'mentions/5', 'mentions/6', 'mentions/7', 'mentions/8', 'mentions/9', 'mentions/10', 'mentions/11', 'mentions/12', 'mentions/13', 'mentions/14', 'musicInfo/artist_name', 'musicInfo/audio_id', 'musicInfo/should_mute_audio', 'musicInfo/should_mute_audio_reason', 'musicInfo/song_name', 'musicInfo/uses_original_audio', 'ownerFullName', 'ownerId', 'ownerUsername', 'paidPartnership', 'productType', 'shortCode', 'sponsors/0/id', 'sponsors/0/username', 'timestamp', 'type', 'url', 'videoDuration', 'videoUrl']\n"
     ]
    }
   ],
   "source": [
    "columns_list = list(df.columns)\n",
    "print(columns_list)"
   ]
  },
  {
   "cell_type": "code",
   "execution_count": 24,
   "id": "c31ee08d",
   "metadata": {},
   "outputs": [],
   "source": [
    "necessary_columns = [\"alt\", \"caption\", \"shortCode\", \"timestamp\", \"type\", \"url\", \"videoDuration\", \"videoUrl\"]"
   ]
  },
  {
   "cell_type": "code",
   "execution_count": 25,
   "id": "2aebd3aa",
   "metadata": {},
   "outputs": [],
   "source": [
    "necessary_df = df[necessary_columns]"
   ]
  },
  {
   "cell_type": "code",
   "execution_count": 26,
   "id": "353c71ff",
   "metadata": {},
   "outputs": [
    {
     "data": {
      "text/html": [
       "<div>\n",
       "<style scoped>\n",
       "    .dataframe tbody tr th:only-of-type {\n",
       "        vertical-align: middle;\n",
       "    }\n",
       "\n",
       "    .dataframe tbody tr th {\n",
       "        vertical-align: top;\n",
       "    }\n",
       "\n",
       "    .dataframe thead th {\n",
       "        text-align: right;\n",
       "    }\n",
       "</style>\n",
       "<table border=\"1\" class=\"dataframe\">\n",
       "  <thead>\n",
       "    <tr style=\"text-align: right;\">\n",
       "      <th></th>\n",
       "      <th>alt</th>\n",
       "      <th>caption</th>\n",
       "      <th>shortCode</th>\n",
       "      <th>timestamp</th>\n",
       "      <th>type</th>\n",
       "      <th>url</th>\n",
       "      <th>videoDuration</th>\n",
       "      <th>videoUrl</th>\n",
       "    </tr>\n",
       "  </thead>\n",
       "  <tbody>\n",
       "    <tr>\n",
       "      <th>0</th>\n",
       "      <td>NaN</td>\n",
       "      <td>My first ever Best of #hongkong with @fedtan !...</td>\n",
       "      <td>C87U_f2OO_W</td>\n",
       "      <td>2024-07-02T16:33:03.000Z</td>\n",
       "      <td>Video</td>\n",
       "      <td>https://www.instagram.com/p/C87U_f2OO_W/</td>\n",
       "      <td>58.033</td>\n",
       "      <td>https://scontent.cdninstagram.com/o1/v/t16/f2/...</td>\n",
       "    </tr>\n",
       "    <tr>\n",
       "      <th>1</th>\n",
       "      <td>NaN</td>\n",
       "      <td>Best of #paris with @sarahandelman !!! #cityguide</td>\n",
       "      <td>C899T74OVlq</td>\n",
       "      <td>2024-07-03T17:07:33.000Z</td>\n",
       "      <td>Video</td>\n",
       "      <td>https://www.instagram.com/p/C899T74OVlq/</td>\n",
       "      <td>56.448</td>\n",
       "      <td>https://scontent.cdninstagram.com/o1/v/t16/f2/...</td>\n",
       "    </tr>\n",
       "    <tr>\n",
       "      <th>2</th>\n",
       "      <td>NaN</td>\n",
       "      <td>Best of #losangeles with @omar.apollo plus con...</td>\n",
       "      <td>C84vRd0OLeG</td>\n",
       "      <td>2024-07-01T16:25:11.000Z</td>\n",
       "      <td>Video</td>\n",
       "      <td>https://www.instagram.com/p/C84vRd0OLeG/</td>\n",
       "      <td>57.633</td>\n",
       "      <td>https://scontent.cdninstagram.com/o1/v/t16/f2/...</td>\n",
       "    </tr>\n",
       "    <tr>\n",
       "      <th>3</th>\n",
       "      <td>NaN</td>\n",
       "      <td>Best of #paris with @cgaimari !!! #cityguide</td>\n",
       "      <td>C8uqGBwP856</td>\n",
       "      <td>2024-06-27T18:24:08.000Z</td>\n",
       "      <td>Video</td>\n",
       "      <td>https://www.instagram.com/p/C8uqGBwP856/</td>\n",
       "      <td>83.448</td>\n",
       "      <td>https://scontent.cdninstagram.com/o1/v/t16/f2/...</td>\n",
       "    </tr>\n",
       "    <tr>\n",
       "      <th>4</th>\n",
       "      <td>NaN</td>\n",
       "      <td>Best of #paris with @aymennebti !!! #cityguide</td>\n",
       "      <td>C8zt1a9tgn4</td>\n",
       "      <td>2024-06-29T17:36:06.000Z</td>\n",
       "      <td>Video</td>\n",
       "      <td>https://www.instagram.com/p/C8zt1a9tgn4/</td>\n",
       "      <td>48.266</td>\n",
       "      <td>https://scontent.cdninstagram.com/o1/v/t16/f2/...</td>\n",
       "    </tr>\n",
       "  </tbody>\n",
       "</table>\n",
       "</div>"
      ],
      "text/plain": [
       "   alt                                            caption    shortCode  \\\n",
       "0  NaN  My first ever Best of #hongkong with @fedtan !...  C87U_f2OO_W   \n",
       "1  NaN  Best of #paris with @sarahandelman !!! #cityguide  C899T74OVlq   \n",
       "2  NaN  Best of #losangeles with @omar.apollo plus con...  C84vRd0OLeG   \n",
       "3  NaN       Best of #paris with @cgaimari !!! #cityguide  C8uqGBwP856   \n",
       "4  NaN     Best of #paris with @aymennebti !!! #cityguide  C8zt1a9tgn4   \n",
       "\n",
       "                  timestamp   type                                       url  \\\n",
       "0  2024-07-02T16:33:03.000Z  Video  https://www.instagram.com/p/C87U_f2OO_W/   \n",
       "1  2024-07-03T17:07:33.000Z  Video  https://www.instagram.com/p/C899T74OVlq/   \n",
       "2  2024-07-01T16:25:11.000Z  Video  https://www.instagram.com/p/C84vRd0OLeG/   \n",
       "3  2024-06-27T18:24:08.000Z  Video  https://www.instagram.com/p/C8uqGBwP856/   \n",
       "4  2024-06-29T17:36:06.000Z  Video  https://www.instagram.com/p/C8zt1a9tgn4/   \n",
       "\n",
       "   videoDuration                                           videoUrl  \n",
       "0         58.033  https://scontent.cdninstagram.com/o1/v/t16/f2/...  \n",
       "1         56.448  https://scontent.cdninstagram.com/o1/v/t16/f2/...  \n",
       "2         57.633  https://scontent.cdninstagram.com/o1/v/t16/f2/...  \n",
       "3         83.448  https://scontent.cdninstagram.com/o1/v/t16/f2/...  \n",
       "4         48.266  https://scontent.cdninstagram.com/o1/v/t16/f2/...  "
      ]
     },
     "execution_count": 26,
     "metadata": {},
     "output_type": "execute_result"
    }
   ],
   "source": [
    "necessary_df.head()"
   ]
  },
  {
   "cell_type": "code",
   "execution_count": 27,
   "id": "c3042fb8",
   "metadata": {},
   "outputs": [],
   "source": [
    "necessary_videos_df = necessary_df.dropna(subset = [\"videoUrl\"])"
   ]
  },
  {
   "cell_type": "code",
   "execution_count": 29,
   "id": "03dd4601",
   "metadata": {},
   "outputs": [],
   "source": [
    "csv_file_path = 'output_videos.csv'\n",
    "necessary_videos_df.to_csv(csv_file_path, index=False)"
   ]
  },
  {
   "cell_type": "code",
   "execution_count": null,
   "id": "faa504e7",
   "metadata": {},
   "outputs": [],
   "source": []
  }
 ],
 "metadata": {
  "kernelspec": {
   "display_name": "Python 3 (ipykernel)",
   "language": "python",
   "name": "python3"
  },
  "language_info": {
   "codemirror_mode": {
    "name": "ipython",
    "version": 3
   },
   "file_extension": ".py",
   "mimetype": "text/x-python",
   "name": "python",
   "nbconvert_exporter": "python",
   "pygments_lexer": "ipython3",
   "version": "3.9.19"
  }
 },
 "nbformat": 4,
 "nbformat_minor": 5
}
